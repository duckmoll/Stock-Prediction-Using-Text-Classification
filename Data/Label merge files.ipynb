{
 "cells": [
  {
   "cell_type": "code",
   "execution_count": 1,
   "id": "a167cfc9",
   "metadata": {},
   "outputs": [],
   "source": [
    "import pandas as pd\n",
    "import numpy as np\n"
   ]
  },
  {
   "cell_type": "code",
   "execution_count": 2,
   "id": "3f63f854",
   "metadata": {},
   "outputs": [
    {
     "data": {
      "text/html": [
       "<div>\n",
       "<style scoped>\n",
       "    .dataframe tbody tr th:only-of-type {\n",
       "        vertical-align: middle;\n",
       "    }\n",
       "\n",
       "    .dataframe tbody tr th {\n",
       "        vertical-align: top;\n",
       "    }\n",
       "\n",
       "    .dataframe thead th {\n",
       "        text-align: right;\n",
       "    }\n",
       "</style>\n",
       "<table border=\"1\" class=\"dataframe\">\n",
       "  <thead>\n",
       "    <tr style=\"text-align: right;\">\n",
       "      <th></th>\n",
       "      <th>date</th>\n",
       "      <th>ticker</th>\n",
       "      <th>cik</th>\n",
       "      <th>form_type</th>\n",
       "      <th>url</th>\n",
       "    </tr>\n",
       "  </thead>\n",
       "  <tbody>\n",
       "    <tr>\n",
       "      <th>0</th>\n",
       "      <td>2015-01-09</td>\n",
       "      <td>AEE</td>\n",
       "      <td>1002910</td>\n",
       "      <td>4</td>\n",
       "      <td>http://www.sec.gov/Archives/edgar/data/1002910...</td>\n",
       "    </tr>\n",
       "    <tr>\n",
       "      <th>1</th>\n",
       "      <td>2015-01-09</td>\n",
       "      <td>AEE</td>\n",
       "      <td>1002910</td>\n",
       "      <td>4</td>\n",
       "      <td>http://www.sec.gov/Archives/edgar/data/1002910...</td>\n",
       "    </tr>\n",
       "    <tr>\n",
       "      <th>2</th>\n",
       "      <td>2015-01-09</td>\n",
       "      <td>AEE</td>\n",
       "      <td>1002910</td>\n",
       "      <td>4</td>\n",
       "      <td>http://www.sec.gov/Archives/edgar/data/1002910...</td>\n",
       "    </tr>\n",
       "  </tbody>\n",
       "</table>\n",
       "</div>"
      ],
      "text/plain": [
       "         date ticker      cik form_type  \\\n",
       "0  2015-01-09    AEE  1002910         4   \n",
       "1  2015-01-09    AEE  1002910         4   \n",
       "2  2015-01-09    AEE  1002910         4   \n",
       "\n",
       "                                                 url  \n",
       "0  http://www.sec.gov/Archives/edgar/data/1002910...  \n",
       "1  http://www.sec.gov/Archives/edgar/data/1002910...  \n",
       "2  http://www.sec.gov/Archives/edgar/data/1002910...  "
      ]
     },
     "execution_count": 2,
     "metadata": {},
     "output_type": "execute_result"
    }
   ],
   "source": [
    "mapping = pd.read_csv(\"sec_file_mapping.csv\", index_col=0)\n",
    "mapping.head(3)"
   ]
  },
  {
   "cell_type": "code",
   "execution_count": 3,
   "id": "91d98826",
   "metadata": {},
   "outputs": [
    {
     "data": {
      "text/html": [
       "<div>\n",
       "<style scoped>\n",
       "    .dataframe tbody tr th:only-of-type {\n",
       "        vertical-align: middle;\n",
       "    }\n",
       "\n",
       "    .dataframe tbody tr th {\n",
       "        vertical-align: top;\n",
       "    }\n",
       "\n",
       "    .dataframe thead th {\n",
       "        text-align: right;\n",
       "    }\n",
       "</style>\n",
       "<table border=\"1\" class=\"dataframe\">\n",
       "  <thead>\n",
       "    <tr style=\"text-align: right;\">\n",
       "      <th></th>\n",
       "      <th>date</th>\n",
       "      <th>ticker</th>\n",
       "      <th>label</th>\n",
       "    </tr>\n",
       "  </thead>\n",
       "  <tbody>\n",
       "    <tr>\n",
       "      <th>0</th>\n",
       "      <td>2014-01-02</td>\n",
       "      <td>FLT</td>\n",
       "      <td>0.0</td>\n",
       "    </tr>\n",
       "    <tr>\n",
       "      <th>1</th>\n",
       "      <td>2014-01-02</td>\n",
       "      <td>HLT</td>\n",
       "      <td>0.0</td>\n",
       "    </tr>\n",
       "    <tr>\n",
       "      <th>2</th>\n",
       "      <td>2014-01-02</td>\n",
       "      <td>PKI</td>\n",
       "      <td>1.0</td>\n",
       "    </tr>\n",
       "  </tbody>\n",
       "</table>\n",
       "</div>"
      ],
      "text/plain": [
       "         date ticker  label\n",
       "0  2014-01-02    FLT    0.0\n",
       "1  2014-01-02    HLT    0.0\n",
       "2  2014-01-02    PKI    1.0"
      ]
     },
     "execution_count": 3,
     "metadata": {},
     "output_type": "execute_result"
    }
   ],
   "source": [
    "labels = pd.read_csv(\"labels_5d.csv\", index_col=0)\n",
    "labels.head(3)"
   ]
  },
  {
   "cell_type": "code",
   "execution_count": 4,
   "id": "21c1dfa5",
   "metadata": {},
   "outputs": [
    {
     "data": {
      "text/html": [
       "<div>\n",
       "<style scoped>\n",
       "    .dataframe tbody tr th:only-of-type {\n",
       "        vertical-align: middle;\n",
       "    }\n",
       "\n",
       "    .dataframe tbody tr th {\n",
       "        vertical-align: top;\n",
       "    }\n",
       "\n",
       "    .dataframe thead th {\n",
       "        text-align: right;\n",
       "    }\n",
       "</style>\n",
       "<table border=\"1\" class=\"dataframe\">\n",
       "  <thead>\n",
       "    <tr style=\"text-align: right;\">\n",
       "      <th></th>\n",
       "      <th>file_number</th>\n",
       "      <th>label</th>\n",
       "    </tr>\n",
       "  </thead>\n",
       "  <tbody>\n",
       "    <tr>\n",
       "      <th>0</th>\n",
       "      <td>0</td>\n",
       "      <td>1.0</td>\n",
       "    </tr>\n",
       "    <tr>\n",
       "      <th>1</th>\n",
       "      <td>1</td>\n",
       "      <td>1.0</td>\n",
       "    </tr>\n",
       "    <tr>\n",
       "      <th>2</th>\n",
       "      <td>2</td>\n",
       "      <td>1.0</td>\n",
       "    </tr>\n",
       "    <tr>\n",
       "      <th>3</th>\n",
       "      <td>3</td>\n",
       "      <td>1.0</td>\n",
       "    </tr>\n",
       "    <tr>\n",
       "      <th>4</th>\n",
       "      <td>4</td>\n",
       "      <td>1.0</td>\n",
       "    </tr>\n",
       "    <tr>\n",
       "      <th>...</th>\n",
       "      <td>...</td>\n",
       "      <td>...</td>\n",
       "    </tr>\n",
       "    <tr>\n",
       "      <th>406904</th>\n",
       "      <td>527704</td>\n",
       "      <td>1.0</td>\n",
       "    </tr>\n",
       "    <tr>\n",
       "      <th>406905</th>\n",
       "      <td>527705</td>\n",
       "      <td>1.0</td>\n",
       "    </tr>\n",
       "    <tr>\n",
       "      <th>406906</th>\n",
       "      <td>527706</td>\n",
       "      <td>1.0</td>\n",
       "    </tr>\n",
       "    <tr>\n",
       "      <th>406907</th>\n",
       "      <td>527708</td>\n",
       "      <td>1.0</td>\n",
       "    </tr>\n",
       "    <tr>\n",
       "      <th>406908</th>\n",
       "      <td>527709</td>\n",
       "      <td>0.0</td>\n",
       "    </tr>\n",
       "  </tbody>\n",
       "</table>\n",
       "<p>406909 rows × 2 columns</p>\n",
       "</div>"
      ],
      "text/plain": [
       "        file_number  label\n",
       "0                 0    1.0\n",
       "1                 1    1.0\n",
       "2                 2    1.0\n",
       "3                 3    1.0\n",
       "4                 4    1.0\n",
       "...             ...    ...\n",
       "406904       527704    1.0\n",
       "406905       527705    1.0\n",
       "406906       527706    1.0\n",
       "406907       527708    1.0\n",
       "406908       527709    0.0\n",
       "\n",
       "[406909 rows x 2 columns]"
      ]
     },
     "execution_count": 4,
     "metadata": {},
     "output_type": "execute_result"
    }
   ],
   "source": [
    "mapping_label = mapping.merge(labels, left_on=[\"date\", \"ticker\"], \n",
    "                right_on=[\"date\", \"ticker\"], how=\"left\")\n",
    "mapping_label = mapping_label.dropna()\n",
    "mapping_label = mapping_label.reset_index()\n",
    "mapping_label = mapping_label.rename(columns={\"index\": \"file_number\"})\n",
    "mapping_label = mapping_label[[\"file_number\", \"label\"]]\n",
    "mapping_label"
   ]
  },
  {
   "cell_type": "code",
   "execution_count": 5,
   "id": "61b0dac9",
   "metadata": {},
   "outputs": [],
   "source": [
    "mapping_label.to_csv(\"mapping_with_label_5d.csv\", index=False)"
   ]
  },
  {
   "cell_type": "code",
   "execution_count": 6,
   "id": "be307999",
   "metadata": {},
   "outputs": [],
   "source": [
    "# training = mapping_label[mapping_label[\"date\"] < \"2020-01-01\"]\n",
    "# training.to_csv(\"mapping_with_label_training.csv\")"
   ]
  },
  {
   "cell_type": "code",
   "execution_count": 7,
   "id": "a9380236",
   "metadata": {},
   "outputs": [],
   "source": [
    "# test = mapping_label[mapping_label[\"date\"] >= \"2021-01-01\"]\n",
    "# test.to_csv(\"mapping_with_label_test.csv\")"
   ]
  },
  {
   "cell_type": "code",
   "execution_count": null,
   "id": "e404eae1",
   "metadata": {},
   "outputs": [],
   "source": []
  }
 ],
 "metadata": {
  "kernelspec": {
   "display_name": "Python 3 (ipykernel)",
   "language": "python",
   "name": "python3"
  },
  "language_info": {
   "codemirror_mode": {
    "name": "ipython",
    "version": 3
   },
   "file_extension": ".py",
   "mimetype": "text/x-python",
   "name": "python",
   "nbconvert_exporter": "python",
   "pygments_lexer": "ipython3",
   "version": "3.9.6"
  }
 },
 "nbformat": 4,
 "nbformat_minor": 5
}
