{
 "cells": [
  {
   "cell_type": "code",
   "execution_count": 17,
   "id": "c3dfb9e9",
   "metadata": {},
   "outputs": [],
   "source": [
    "import pandas as pd\n",
    "import numpy as np\n"
   ]
  },
  {
   "cell_type": "code",
   "execution_count": 19,
   "id": "1b2f8756",
   "metadata": {},
   "outputs": [],
   "source": [
    "training = pd.read_csv(\"mapping_with_label_training.csv\").dropna()\n",
    "training = training[training[\"form_type\"] != \"4\"]\n",
    "training = training[training[\"label\"] != 0]\n",
    "twoway = pd.crosstab(training[\"form_type\"], \n",
    "training[\"label\"], normalize=\"index\")\n",
    "twoway = twoway.merge(training.groupby(\"form_type\")\\\n",
    "                      .agg({\"file_number\":\"count\"}),\n",
    "                      left_index=True,right_index=True)\n",
    "twoway['prediction'] = np.where(\n",
    "    twoway[-1] >= twoway[1], -1, 1)\n",
    "twoway = twoway.reset_index()\n",
    "twoway.sort_values(\"file_number\", ascending=False).to_csv(\"two_way_probablistic.csv\")"
   ]
  },
  {
   "cell_type": "code",
   "execution_count": 14,
   "id": "3f830430",
   "metadata": {},
   "outputs": [
    {
     "data": {
      "text/html": [
       "<div>\n",
       "<style scoped>\n",
       "    .dataframe tbody tr th:only-of-type {\n",
       "        vertical-align: middle;\n",
       "    }\n",
       "\n",
       "    .dataframe tbody tr th {\n",
       "        vertical-align: top;\n",
       "    }\n",
       "\n",
       "    .dataframe thead th {\n",
       "        text-align: right;\n",
       "    }\n",
       "</style>\n",
       "<table border=\"1\" class=\"dataframe\">\n",
       "  <thead>\n",
       "    <tr style=\"text-align: right;\">\n",
       "      <th></th>\n",
       "      <th>form_type</th>\n",
       "      <th>label</th>\n",
       "      <th>prediction</th>\n",
       "    </tr>\n",
       "  </thead>\n",
       "  <tbody>\n",
       "    <tr>\n",
       "      <th>0</th>\n",
       "      <td>3</td>\n",
       "      <td>1.0</td>\n",
       "      <td>-1</td>\n",
       "    </tr>\n",
       "    <tr>\n",
       "      <th>1</th>\n",
       "      <td>3</td>\n",
       "      <td>-1.0</td>\n",
       "      <td>-1</td>\n",
       "    </tr>\n",
       "    <tr>\n",
       "      <th>2</th>\n",
       "      <td>3</td>\n",
       "      <td>-1.0</td>\n",
       "      <td>-1</td>\n",
       "    </tr>\n",
       "    <tr>\n",
       "      <th>3</th>\n",
       "      <td>3</td>\n",
       "      <td>1.0</td>\n",
       "      <td>-1</td>\n",
       "    </tr>\n",
       "    <tr>\n",
       "      <th>4</th>\n",
       "      <td>3</td>\n",
       "      <td>-1.0</td>\n",
       "      <td>-1</td>\n",
       "    </tr>\n",
       "    <tr>\n",
       "      <th>...</th>\n",
       "      <td>...</td>\n",
       "      <td>...</td>\n",
       "      <td>...</td>\n",
       "    </tr>\n",
       "    <tr>\n",
       "      <th>31960</th>\n",
       "      <td>25-NSE/A</td>\n",
       "      <td>1.0</td>\n",
       "      <td>-1</td>\n",
       "    </tr>\n",
       "    <tr>\n",
       "      <th>31961</th>\n",
       "      <td>NT 10-Q</td>\n",
       "      <td>1.0</td>\n",
       "      <td>-1</td>\n",
       "    </tr>\n",
       "    <tr>\n",
       "      <th>31962</th>\n",
       "      <td>PRER14A</td>\n",
       "      <td>1.0</td>\n",
       "      <td>-1</td>\n",
       "    </tr>\n",
       "    <tr>\n",
       "      <th>31963</th>\n",
       "      <td>PREM14A</td>\n",
       "      <td>-1.0</td>\n",
       "      <td>-1</td>\n",
       "    </tr>\n",
       "    <tr>\n",
       "      <th>31964</th>\n",
       "      <td>424B1</td>\n",
       "      <td>1.0</td>\n",
       "      <td>-1</td>\n",
       "    </tr>\n",
       "  </tbody>\n",
       "</table>\n",
       "<p>31965 rows × 3 columns</p>\n",
       "</div>"
      ],
      "text/plain": [
       "      form_type  label  prediction\n",
       "0             3    1.0          -1\n",
       "1             3   -1.0          -1\n",
       "2             3   -1.0          -1\n",
       "3             3    1.0          -1\n",
       "4             3   -1.0          -1\n",
       "...         ...    ...         ...\n",
       "31960  25-NSE/A    1.0          -1\n",
       "31961   NT 10-Q    1.0          -1\n",
       "31962   PRER14A    1.0          -1\n",
       "31963   PREM14A   -1.0          -1\n",
       "31964     424B1    1.0          -1\n",
       "\n",
       "[31965 rows x 3 columns]"
      ]
     },
     "execution_count": 14,
     "metadata": {},
     "output_type": "execute_result"
    }
   ],
   "source": [
    "test = pd.read_csv(\"mapping_with_label_test.csv\", index_col=0).dropna()\n",
    "# test[\"label\"] = test[\"label\"].replace(0, 1)\n",
    "test = test[test[\"form_type\"] != \"4\"]\n",
    "test = test[test[\"label\"] != 0]\n",
    "test = test[[\"form_type\", \"label\"]]\n",
    "pred = twoway[[\"form_type\", \"prediction\"]]\n",
    "test = test.merge(pred, on=[\"form_type\"])\n",
    "test"
   ]
  },
  {
   "cell_type": "code",
   "execution_count": 15,
   "id": "6e02b79a",
   "metadata": {},
   "outputs": [
    {
     "name": "stdout",
     "output_type": "stream",
     "text": [
      "[[ 2085 13121]\n",
      " [ 2421 14338]]\n",
      "              precision    recall  f1-score   support\n",
      "\n",
      "        -1.0       0.46      0.14      0.21     15206\n",
      "         1.0       0.52      0.86      0.65     16759\n",
      "\n",
      "    accuracy                           0.51     31965\n",
      "   macro avg       0.49      0.50      0.43     31965\n",
      "weighted avg       0.49      0.51      0.44     31965\n",
      "\n"
     ]
    }
   ],
   "source": [
    "from sklearn.metrics import classification_report\n",
    "from sklearn.metrics import confusion_matrix\n",
    "\n",
    "print(confusion_matrix(test[\"label\"], test[\"prediction\"]))\n",
    "print(classification_report(test[\"label\"], test[\"prediction\"]))"
   ]
  },
  {
   "cell_type": "code",
   "execution_count": null,
   "id": "91efe1e1",
   "metadata": {},
   "outputs": [],
   "source": []
  }
 ],
 "metadata": {
  "kernelspec": {
   "display_name": "Python 3 (ipykernel)",
   "language": "python",
   "name": "python3"
  },
  "language_info": {
   "codemirror_mode": {
    "name": "ipython",
    "version": 3
   },
   "file_extension": ".py",
   "mimetype": "text/x-python",
   "name": "python",
   "nbconvert_exporter": "python",
   "pygments_lexer": "ipython3",
   "version": "3.9.6"
  }
 },
 "nbformat": 4,
 "nbformat_minor": 5
}
